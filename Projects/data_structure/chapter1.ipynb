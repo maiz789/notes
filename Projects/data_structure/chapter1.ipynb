{
 "cells": [
  {
   "cell_type": "code",
   "execution_count": 1,
   "metadata": {},
   "outputs": [
    {
     "data": {
      "text/plain": [
       "[3, 2, 1]"
      ]
     },
     "execution_count": 1,
     "metadata": {},
     "output_type": "execute_result"
    }
   ],
   "source": [
    "def reverse(number_list):\n",
    "    return number_list[::-1]\n",
    "\n",
    "reverse([1, 2, 3])"
   ]
  },
  {
   "cell_type": "code",
   "execution_count": 6,
   "metadata": {},
   "outputs": [
    {
     "data": {
      "text/plain": [
       "False"
      ]
     },
     "execution_count": 6,
     "metadata": {},
     "output_type": "execute_result"
    }
   ],
   "source": [
    "# identify pair of numbers that give odd product\n",
    "def is_number_odd(num):\n",
    "    return (num%2 == 1)\n",
    "\n",
    "def there_is_number_pair(number_list):\n",
    "    count = 0\n",
    "    for num in number_list:\n",
    "        if is_number_odd(num):\n",
    "            count +=1\n",
    "        if (count >= 2):\n",
    "            return True\n",
    "    return False\n",
    "there_is_number_pair([1, 2, 4])"
   ]
  },
  {
   "cell_type": "code",
   "execution_count": 25,
   "metadata": {},
   "outputs": [
    {
     "data": {
      "text/plain": [
       "0.7063162427192688"
      ]
     },
     "execution_count": 25,
     "metadata": {},
     "output_type": "execute_result"
    }
   ],
   "source": [
    "# Probability of same birthday given group size\n",
    "people_size = 30\n",
    "year_days = 365\n",
    "def chance_distinct_birthday():\n",
    "    probability = 1\n",
    "    for num in range(people_size):\n",
    "        choice_of_days = year_days-num\n",
    "        probability *= (choice_of_days/year_days)\n",
    "    return probability\n",
    "\n",
    "def chance_same_birthday():\n",
    "    return 1-chance_distinct_birthday()\n",
    "\n",
    "chance_same_birthday()\n"
   ]
  },
  {
   "cell_type": "code",
   "execution_count": 27,
   "metadata": {},
   "outputs": [
    {
     "data": {
      "text/plain": [
       "[0, 2, 6, 12, 20, 30, 42, 56, 72, 90]"
      ]
     },
     "execution_count": 27,
     "metadata": {},
     "output_type": "execute_result"
    }
   ],
   "source": [
    "[0, 2, 6, 12, 20, 30, 42, 56, 72, 90]\n",
    "[k*(k+1) for k in range(0,10)]\n"
   ]
  },
  {
   "cell_type": "code",
   "execution_count": null,
   "metadata": {},
   "outputs": [],
   "source": []
  }
 ],
 "metadata": {
  "kernelspec": {
   "display_name": "Python 3",
   "language": "python",
   "name": "python3"
  },
  "language_info": {
   "codemirror_mode": {
    "name": "ipython",
    "version": 3
   },
   "file_extension": ".py",
   "mimetype": "text/x-python",
   "name": "python",
   "nbconvert_exporter": "python",
   "pygments_lexer": "ipython3",
   "version": "3.11.2"
  },
  "orig_nbformat": 4
 },
 "nbformat": 4,
 "nbformat_minor": 2
}
