{
 "cells": [
  {
   "attachments": {},
   "cell_type": "markdown",
   "metadata": {},
   "source": [
    "#### Data types\n",
    "##### Table: Immutable\n",
    "Mutability: change \"in place\" without making a copy\n",
    "\n",
    "| Data type | Immutable? | Sequence type?|\n",
    "| --- | --- | ---|\n",
    "| int | v | |\n",
    "| float | v | |\n",
    "| str | v | v |\n",
    "| tuples | v | v |\n",
    "| frozenset | v | |\n",
    "| set |  |  |\n",
    "| list |  | v |\n",
    "| dictionary |  |  |"
   ]
  },
  {
   "attachments": {},
   "cell_type": "markdown",
   "metadata": {},
   "source": [
    "##### Table: Operators\n",
    "Operators: popular functions for a datatype\n",
    " \n",
    "| Operator| Operands? | Examples| \n",
    "| --- | --- | ---|\n",
    "| Logical | Boolean | not, and, or|\n",
    "| Equality | Object | is, is not, ==, != (usualy not for true aliasing, but whether they have the same content)|\n",
    "| Comparison | int, str | <, <=, >, >=|\n",
    "| Arithmetic | int, float | +, -, /, //, %|\n",
    "| Bitwise | int | ~, &, ^, <<|\n",
    "| Sequence | str, tuple, list | s[j], s[start:stop:step], s+t, val in s, support negative indexing. lexigraphic ordering (elemnt by element comparison until the first difference is found). E.g. [5, 6, 9] < [5, 7]| \n",
    "| Sets and Dictionaries| Sets, Dictionaries | s1 < s2 (s1 is proper subset of s2), s1 & s2 (intersection of two sets)|\n",
    "| Dictionaries | Dictionaries | d[key], key in d, del d[key]|"
   ]
  },
  {
   "attachments": {},
   "cell_type": "markdown",
   "metadata": {},
   "source": [
    "##### Dictionaries "
   ]
  },
  {
   "cell_type": "code",
   "execution_count": null,
   "metadata": {},
   "outputs": [],
   "source": [
    "\"\"\" \n",
    "Dictionary's common functions\n",
    "\"\"\"\n",
    "dictionary = {}                                       # empty dictionary\n",
    "dictionary = {\"a\":\"apple\", \"b\":\"ball\"}                # creates a dictionary\n",
    "dictionary = dict([(\"a\",\"apple\"), (\"b\",\"ball\")])      # creates a dictionary\n",
    "\n",
    "#The most widely used behaviour of dictionaries is accessing a value associated with a particular key k\n",
    "\n",
    "dictionary[k]                 # access value at index k\n",
    "del dictionary[k]             # delete value at dictionary k\n",
    "k in dictionary               # does index k exist in dictionary?\n",
    "dictionary1 == dictionary2    # equivalence check"
   ]
  },
  {
   "attachments": {},
   "cell_type": "markdown",
   "metadata": {},
   "source": [
    "##### Set\n",
    "* Collection without duplicates\n",
    "* No inherent order\n",
    "* Set is mutable\n",
    "* Elements must be immutable\n",
    "* Adv: uses hash, optimized method for whether an element is contained.\n",
    "\n",
    "##### Frozenset\n",
    "* Making set immuatble\n"
   ]
  },
  {
   "cell_type": "code",
   "execution_count": null,
   "metadata": {},
   "outputs": [],
   "source": [
    "# \n",
    "set = set(\"abc\") # {\"a\", \"b\", \"c\"}\n",
    "not_set = {} # This creates a dictionary!"
   ]
  },
  {
   "attachments": {},
   "cell_type": "markdown",
   "metadata": {},
   "source": [
    "##### Iterators and iterables\n",
    "* Iterators are any objects that can be turned into am interable through .iter()\n",
    "* Iterables are much more memory efficent then list, because they don't product the whole list in memory, instead they create the members for iteration one at a time.\n",
    "  * list(range(0, 1000)) compared to list(d.values()), which is based upon current values of dictionary d.\n",
    "  * For loop converts the input list to iterate to an iterable.\n",
    "  * Iterables call next() to trigger generation of the next member\n",
    "\n",
    "Below we will use an example where we compute all the factors for an input number n, and see the difference between a function and a generator"
   ]
  },
  {
   "cell_type": "code",
   "execution_count": null,
   "metadata": {},
   "outputs": [],
   "source": [
    "# Function\n",
    "def factors(n):\n",
    "  factors = [];\n",
    "  for number in range(1, n+1):\n",
    "    if n % number==0:\n",
    "      factors.append(number)\n",
    "    return factors\n",
    "    \n",
    "# Generator function\n",
    "def factors_gen(n):\n",
    "  for number in range(1, n+1):\n",
    "    if n % number==0:\n",
    "      yield number\n"
   ]
  },
  {
   "attachments": {},
   "cell_type": "markdown",
   "metadata": {},
   "source": [
    "##### Str\n",
    "* immutable sequence of characters\n",
    "* indexed sequence of characters"
   ]
  },
  {
   "attachments": {},
   "cell_type": "markdown",
   "metadata": {},
   "source": [
    "##### List"
   ]
  },
  {
   "cell_type": "code",
   "execution_count": null,
   "metadata": {},
   "outputs": [],
   "source": [
    "a = []"
   ]
  },
  {
   "attachments": {},
   "cell_type": "markdown",
   "metadata": {},
   "source": [
    "Common properties: set, frozenset, dictionaries\n",
    "set and frozen set\n",
    "* support s1 < s2     # s1 is a subset of s2\n",
    "* s1 in s2 "
   ]
  },
  {
   "attachments": {},
   "cell_type": "markdown",
   "metadata": {},
   "source": [
    "#### File manipulation"
   ]
  },
  {
   "cell_type": "code",
   "execution_count": null,
   "metadata": {},
   "outputs": [
    {
     "ename": "SyntaxError",
     "evalue": "incomplete input (534882290.py, line 5)",
     "output_type": "error",
     "traceback": [
      "\u001b[0;36m  Cell \u001b[0;32mIn[6], line 5\u001b[0;36m\u001b[0m\n\u001b[0;31m    for line in fp:\u001b[0m\n\u001b[0m                   ^\u001b[0m\n\u001b[0;31mSyntaxError\u001b[0m\u001b[0;31m:\u001b[0m incomplete input\n"
     ]
    }
   ],
   "source": [
    "# returns a proxy to file which had read access\n",
    "fp = open(\"file.txt\")\n",
    "# returns a proxy to file which had write access\n",
    "fp = open(\"file.txt\", \"w\")\n",
    "for line in fp:"
   ]
  },
  {
   "attachments": {},
   "cell_type": "markdown",
   "metadata": {},
   "source": [
    "#### For loops\n",
    "* We prefer looping through the index of an iterable \n",
    "* and access through the index"
   ]
  },
  {
   "attachments": {},
   "cell_type": "markdown",
   "metadata": {},
   "source": [
    "#### Structures and interpretation\n",
    "- Computer science is not a science, it is revolution in teh way we express what we think\n",
    "- Procedural epistemology: the study of the structure of knowloedfe from an imperative (how to), rather than declarative (what is), point of view.\n",
    "Chapter 4\n",
    "- Computer programs is a formal medium for expressing ideas about methodology\n",
    "- Some languages allow us to control the comlexity of engineering design\n",
    "- Enables you to describe (hence to think about) the problem in a different way\n",
    "- By means of abstraction, using primitives ...etc\n",
    "- Machine Language hides representation of data as collection of bits.\n",
    "- Evaluator/interpretor: a procedure that determines the meaning of expressions in a language"
   ]
  },
  {
   "cell_type": "code",
   "execution_count": null,
   "metadata": {},
   "outputs": [],
   "source": []
  }
 ],
 "metadata": {
  "kernelspec": {
   "display_name": "Python 3",
   "language": "python",
   "name": "python3"
  },
  "language_info": {
   "codemirror_mode": {
    "name": "ipython",
    "version": 3
   },
   "file_extension": ".py",
   "mimetype": "text/x-python",
   "name": "python",
   "nbconvert_exporter": "python",
   "pygments_lexer": "ipython3",
   "version": "3.11.2 (v3.11.2:878ead1ac1, Feb  7 2023, 10:02:41) [Clang 13.0.0 (clang-1300.0.29.30)]"
  },
  "orig_nbformat": 4,
  "vscode": {
   "interpreter": {
    "hash": "aee8b7b246df8f9039afb4144a1f6fd8d2ca17a180786b69acc140d282b71a49"
   }
  }
 },
 "nbformat": 4,
 "nbformat_minor": 2
}
