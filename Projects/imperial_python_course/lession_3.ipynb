{
 "metadata": {
  "language_info": {
   "codemirror_mode": {
    "name": "ipython",
    "version": 3
   },
   "file_extension": ".py",
   "mimetype": "text/x-python",
   "name": "python",
   "nbconvert_exporter": "python",
   "pygments_lexer": "ipython3",
   "version": "3.8.10-final"
  },
  "orig_nbformat": 2,
  "kernelspec": {
   "name": "python3",
   "display_name": "Python 3.8.10 64-bit",
   "metadata": {
    "interpreter": {
     "hash": "eb63f88eb6d5ca46c44dc2e7f83d84542ab95a0a9622a27ae5c695cdf6e8b4c8"
    }
   }
  }
 },
 "nbformat": 4,
 "nbformat_minor": 2,
 "cells": [
  {
   "cell_type": "code",
   "execution_count": 6,
   "metadata": {},
   "outputs": [
    {
     "output_type": "stream",
     "name": "stdout",
     "text": [
      "It's a leap year\n"
     ]
    }
   ],
   "source": [
    "#Is Leap year?\n",
    "input_year = int(input(\"Enter a year? \"))\n",
    "if (input_year % 4 !=0):\n",
    "    print(\"Not a leap year\")\n",
    "elif((input_year % 100 == 0) & (input_year % 400 != 0)):\n",
    "    print(\"Not a leap year\")\n",
    "else:\n",
    "    print(\"It's a leap year\")"
   ]
  },
  {
   "cell_type": "code",
   "execution_count": 8,
   "metadata": {},
   "outputs": [
    {
     "output_type": "stream",
     "name": "stdout",
     "text": [
      "Just nice\nNew temperature: 22.0\n"
     ]
    }
   ],
   "source": [
    "temp = float(input(\"Please enter temperature: \"))\n",
    "if(temp > 22):\n",
    "    print(\"Too hot\")\n",
    "    temp = temp - 1.0\n",
    "elif(temp < 20):\n",
    "    print(\"Too cold\")\n",
    "    temp = temp + 1.0 \n",
    "else:\n",
    "    print(\"Just nice\")\n",
    "print(f\"New temperature: {temp}\")"
   ]
  },
  {
   "cell_type": "code",
   "execution_count": null,
   "metadata": {},
   "outputs": [],
   "source": []
  }
 ]
}