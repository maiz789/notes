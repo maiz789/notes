{
 "cells": [
  {
   "cell_type": "code",
   "execution_count": 4,
   "metadata": {},
   "outputs": [
    {
     "name": "stdout",
     "output_type": "stream",
     "text": [
      "*\n",
      ". *\n",
      ".. *\n",
      "... *\n",
      ".... *\n",
      "..... *\n",
      "...... *\n",
      "....... *\n",
      "........ *\n"
     ]
    }
   ],
   "source": [
    "# Exercise 1\n",
    "for row in range(0, 9):\n",
    "  if row > 0:\n",
    "    print(row * \".\", end = \" \")\n",
    "  print(\"*\")"
   ]
  },
  {
   "cell_type": "code",
   "execution_count": 6,
   "metadata": {},
   "outputs": [
    {
     "name": "stdout",
     "output_type": "stream",
     "text": [
      "......... *\n",
      "........ *\n",
      "....... *\n",
      "...... *\n",
      "..... *\n",
      ".... *\n",
      "... *\n",
      ".. *\n",
      ". *\n",
      "*\n"
     ]
    }
   ],
   "source": [
    "# Exercise 2\n",
    "max_row = 9\n",
    "for row in range(0, max_row + 1):\n",
    "  if(row < max_row):\n",
    "    print((max_row - row) * \".\", end = \" \")\n",
    "  print(\"*\")"
   ]
  },
  {
   "cell_type": "code",
   "execution_count": 13,
   "metadata": {},
   "outputs": [
    {
     "name": "stdout",
     "output_type": "stream",
     "text": [
      ".... *\n",
      "... *\n",
      ".. *\n",
      ". *\n",
      "*\n",
      ". *\n",
      ".. *\n",
      "... *\n",
      ".... *\n"
     ]
    }
   ],
   "source": [
    "# Exercise 3\n",
    "max_rows = 9 # assert max_rows == odd\n",
    "for row in range(0, max_rows):\n",
    "  half_rows = max_row//2\n",
    "  if(row < half_rows):\n",
    "    print(\".\" * (half_rows - row), end = \" \")\n",
    "  if(row > half_rows):\n",
    "    print(\".\" * (row - half_rows), end = \" \")\n",
    "  print(\"*\")\n"
   ]
  },
  {
   "cell_type": "code",
   "execution_count": 2,
   "metadata": {},
   "outputs": [
    {
     "name": "stdout",
     "output_type": "stream",
     "text": [
      ".... * \n",
      "... *** \n",
      ".. ***** \n",
      ". ******* \n",
      "******* \n",
      ". ******* \n",
      ".. ***** \n",
      "... *** \n",
      ".... * \n"
     ]
    }
   ],
   "source": [
    "# Exercise 4\n",
    "max_rows = 9 # assert max_rows == odd\n",
    "for row in range(0, max_rows):\n",
    "  half_rows = max_rows//2\n",
    "  if(row < half_rows):\n",
    "    print(\".\" * (half_rows - row), end = \" \")\n",
    "    print(\"*\" * (2*(row+1)-1), end = \" \")\n",
    "  elif(row > half_rows):\n",
    "    print(\".\" * (row - half_rows), end = \" \")\n",
    "    dep_row = max_rows - row\n",
    "    print(\"*\" * (2*(dep_row)-1), end = \" \")\n",
    "  else:\n",
    "    print(\"*\" * (2*row-1), end = \" \")\n",
    "  print()\n"
   ]
  },
  {
   "cell_type": "code",
   "execution_count": 9,
   "metadata": {},
   "outputs": [
    {
     "name": "stdout",
     "output_type": "stream",
     "text": [
      ". . . . . * \n",
      ". . . . * * * \n",
      ". . . * * * * * \n",
      ". . * * * * * * * \n",
      ". * * * * * * * * * \n",
      "* * * * * * * * * * * \n",
      ". * * * * * * * * * \n",
      ". . * * * * * * * \n",
      ". . . * * * * * \n",
      ". . . . * * * \n",
      ". . . . . * \n"
     ]
    }
   ],
   "source": [
    "max_rows = 11\n",
    "half_rows = max_rows//2\n",
    "for row in range(0, max_rows):\n",
    "  number_of_dots = abs(half_rows - row)\n",
    "  if(row>half_rows):\n",
    "    distant_to_pseudo_row= 2*(row - half_rows)\n",
    "    pseudo_row = row - distant_to_pseudo_row\n",
    "    number_of_stars = (2*pseudo_row)+1\n",
    "  else:\n",
    "    number_of_stars = (2*row)+1\n",
    "  for col_dot in range(0,number_of_dots):\n",
    "    print(\".\", end = \" \")\n",
    "  for col_star in range(0, number_of_stars):\n",
    "    print(\"*\", end = \" \")\n",
    "  print()"
   ]
  },
  {
   "cell_type": "code",
   "execution_count": 14,
   "metadata": {},
   "outputs": [
    {
     "name": "stdout",
     "output_type": "stream",
     "text": [
      "        * \n",
      "      * . * \n",
      "    * . * . * \n",
      "  * . * . * . * \n",
      "* . * . * . * . * \n",
      "  * . * . * . * \n",
      "    * . * . * \n",
      "      * . * \n",
      "        * \n"
     ]
    }
   ],
   "source": [
    "max_rows = 9\n",
    "half_rows = max_rows//2\n",
    "for row in range(0, max_rows):\n",
    "  number_of_spaces = abs(half_rows - row)\n",
    "  if(row>half_rows):\n",
    "    distant_to_pseudo_row= 2*(row - half_rows)\n",
    "    pseudo_row = row - distant_to_pseudo_row\n",
    "    number_of_print = (2*pseudo_row)+1\n",
    "  else:\n",
    "    number_of_print = (2*row)+1\n",
    "  for col_spaces in range(0,number_of_spaces):\n",
    "    print(\" \", end = \" \")\n",
    "  for col_star in range(0, number_of_print):\n",
    "    if(col_star%2 == 0):\n",
    "      print(\"*\", end = \" \")\n",
    "    else:\n",
    "      print(\".\",end = \" \")\n",
    "  print()"
   ]
  }
 ],
 "metadata": {
  "kernelspec": {
   "display_name": "Python 3.10.6 64-bit",
   "language": "python",
   "name": "python3"
  },
  "language_info": {
   "codemirror_mode": {
    "name": "ipython",
    "version": 3
   },
   "file_extension": ".py",
   "mimetype": "text/x-python",
   "name": "python",
   "nbconvert_exporter": "python",
   "pygments_lexer": "ipython3",
   "version": "3.10.6"
  },
  "orig_nbformat": 4,
  "vscode": {
   "interpreter": {
    "hash": "aee8b7b246df8f9039afb4144a1f6fd8d2ca17a180786b69acc140d282b71a49"
   }
  }
 },
 "nbformat": 4,
 "nbformat_minor": 2
}
